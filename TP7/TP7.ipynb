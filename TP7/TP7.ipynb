{
 "cells": [
  {
   "cell_type": "markdown",
   "metadata": {},
   "source": [
    "# title: \"TP7 Régression linéaire pas à pas\"\n",
    "## author: \"Louai KASSA BAGHDOUCHE\"\n",
    "## date: \"22/12/2020\""
   ]
  },
  {
   "cell_type": "markdown",
   "metadata": {},
   "source": [
    "## Partie 1 \n",
    "Importer le data frame cars du package base. Ce data frame contient des colonnes nommées « speed » et « dist ». Tracer le nuage de points  correspondant. Nous allons calculer et tracer la  droite des  moindres carrés pas à pas :\n",
    "On appellera x le vecteur colonne « speed » et  y « dist »\n",
    " (y= distance nécéssaire pour s’arrêter en fonction de x=vitesse du véhicule, données de 1920)\n",
    "On demande dans un premier temps de ne pas utiliser les fonctions mean(), sd() et cov(), pour\n",
    "\n",
    "* Calculer la moyenne de x, de y, ainsi que leurs écarts-types  \n",
    "* Calculer la covariance de (x,y)\n",
    "\n",
    "Vérifier à l’aide de mean(), sd() et cov(), expliquer les écarts éventuels\n",
    "\n",
    "* En déduire les coefficients a et b  de la droite des moindres carrés données par y=ax+b\n",
    "Vérifier le résultat obtenus à l’aide de la fonction lm(). On notera l le modèle linéaire ainsi obtenu\n",
    "Tracer sur le graphe précédent la droite des moindres carrés\n",
    "\n"
   ]
  },
  {
   "cell_type": "code",
   "execution_count": 2,
   "metadata": {},
   "outputs": [
    {
     "data": {
      "text/html": [
       "<table>\n",
       "<thead><tr><th scope=col>speed</th><th scope=col>dist</th></tr></thead>\n",
       "<tbody>\n",
       "\t<tr><td> 4 </td><td>  2</td></tr>\n",
       "\t<tr><td> 4 </td><td> 10</td></tr>\n",
       "\t<tr><td> 7 </td><td>  4</td></tr>\n",
       "\t<tr><td> 7 </td><td> 22</td></tr>\n",
       "\t<tr><td> 8 </td><td> 16</td></tr>\n",
       "\t<tr><td> 9 </td><td> 10</td></tr>\n",
       "\t<tr><td>10 </td><td> 18</td></tr>\n",
       "\t<tr><td>10 </td><td> 26</td></tr>\n",
       "\t<tr><td>10 </td><td> 34</td></tr>\n",
       "\t<tr><td>11 </td><td> 17</td></tr>\n",
       "\t<tr><td>11 </td><td> 28</td></tr>\n",
       "\t<tr><td>12 </td><td> 14</td></tr>\n",
       "\t<tr><td>12 </td><td> 20</td></tr>\n",
       "\t<tr><td>12 </td><td> 24</td></tr>\n",
       "\t<tr><td>12 </td><td> 28</td></tr>\n",
       "\t<tr><td>13 </td><td> 26</td></tr>\n",
       "\t<tr><td>13 </td><td> 34</td></tr>\n",
       "\t<tr><td>13 </td><td> 34</td></tr>\n",
       "\t<tr><td>13 </td><td> 46</td></tr>\n",
       "\t<tr><td>14 </td><td> 26</td></tr>\n",
       "\t<tr><td>14 </td><td> 36</td></tr>\n",
       "\t<tr><td>14 </td><td> 60</td></tr>\n",
       "\t<tr><td>14 </td><td> 80</td></tr>\n",
       "\t<tr><td>15 </td><td> 20</td></tr>\n",
       "\t<tr><td>15 </td><td> 26</td></tr>\n",
       "\t<tr><td>15 </td><td> 54</td></tr>\n",
       "\t<tr><td>16 </td><td> 32</td></tr>\n",
       "\t<tr><td>16 </td><td> 40</td></tr>\n",
       "\t<tr><td>17 </td><td> 32</td></tr>\n",
       "\t<tr><td>17 </td><td> 40</td></tr>\n",
       "\t<tr><td>17 </td><td> 50</td></tr>\n",
       "\t<tr><td>18 </td><td> 42</td></tr>\n",
       "\t<tr><td>18 </td><td> 56</td></tr>\n",
       "\t<tr><td>18 </td><td> 76</td></tr>\n",
       "\t<tr><td>18 </td><td> 84</td></tr>\n",
       "\t<tr><td>19 </td><td> 36</td></tr>\n",
       "\t<tr><td>19 </td><td> 46</td></tr>\n",
       "\t<tr><td>19 </td><td> 68</td></tr>\n",
       "\t<tr><td>20 </td><td> 32</td></tr>\n",
       "\t<tr><td>20 </td><td> 48</td></tr>\n",
       "\t<tr><td>20 </td><td> 52</td></tr>\n",
       "\t<tr><td>20 </td><td> 56</td></tr>\n",
       "\t<tr><td>20 </td><td> 64</td></tr>\n",
       "\t<tr><td>22 </td><td> 66</td></tr>\n",
       "\t<tr><td>23 </td><td> 54</td></tr>\n",
       "\t<tr><td>24 </td><td> 70</td></tr>\n",
       "\t<tr><td>24 </td><td> 92</td></tr>\n",
       "\t<tr><td>24 </td><td> 93</td></tr>\n",
       "\t<tr><td>24 </td><td>120</td></tr>\n",
       "\t<tr><td>25 </td><td> 85</td></tr>\n",
       "</tbody>\n",
       "</table>\n"
      ],
      "text/latex": [
       "\\begin{tabular}{r|ll}\n",
       " speed & dist\\\\\n",
       "\\hline\n",
       "\t  4  &   2\\\\\n",
       "\t  4  &  10\\\\\n",
       "\t  7  &   4\\\\\n",
       "\t  7  &  22\\\\\n",
       "\t  8  &  16\\\\\n",
       "\t  9  &  10\\\\\n",
       "\t 10  &  18\\\\\n",
       "\t 10  &  26\\\\\n",
       "\t 10  &  34\\\\\n",
       "\t 11  &  17\\\\\n",
       "\t 11  &  28\\\\\n",
       "\t 12  &  14\\\\\n",
       "\t 12  &  20\\\\\n",
       "\t 12  &  24\\\\\n",
       "\t 12  &  28\\\\\n",
       "\t 13  &  26\\\\\n",
       "\t 13  &  34\\\\\n",
       "\t 13  &  34\\\\\n",
       "\t 13  &  46\\\\\n",
       "\t 14  &  26\\\\\n",
       "\t 14  &  36\\\\\n",
       "\t 14  &  60\\\\\n",
       "\t 14  &  80\\\\\n",
       "\t 15  &  20\\\\\n",
       "\t 15  &  26\\\\\n",
       "\t 15  &  54\\\\\n",
       "\t 16  &  32\\\\\n",
       "\t 16  &  40\\\\\n",
       "\t 17  &  32\\\\\n",
       "\t 17  &  40\\\\\n",
       "\t 17  &  50\\\\\n",
       "\t 18  &  42\\\\\n",
       "\t 18  &  56\\\\\n",
       "\t 18  &  76\\\\\n",
       "\t 18  &  84\\\\\n",
       "\t 19  &  36\\\\\n",
       "\t 19  &  46\\\\\n",
       "\t 19  &  68\\\\\n",
       "\t 20  &  32\\\\\n",
       "\t 20  &  48\\\\\n",
       "\t 20  &  52\\\\\n",
       "\t 20  &  56\\\\\n",
       "\t 20  &  64\\\\\n",
       "\t 22  &  66\\\\\n",
       "\t 23  &  54\\\\\n",
       "\t 24  &  70\\\\\n",
       "\t 24  &  92\\\\\n",
       "\t 24  &  93\\\\\n",
       "\t 24  & 120\\\\\n",
       "\t 25  &  85\\\\\n",
       "\\end{tabular}\n"
      ],
      "text/markdown": [
       "\n",
       "| speed | dist |\n",
       "|---|---|\n",
       "|  4  |   2 |\n",
       "|  4  |  10 |\n",
       "|  7  |   4 |\n",
       "|  7  |  22 |\n",
       "|  8  |  16 |\n",
       "|  9  |  10 |\n",
       "| 10  |  18 |\n",
       "| 10  |  26 |\n",
       "| 10  |  34 |\n",
       "| 11  |  17 |\n",
       "| 11  |  28 |\n",
       "| 12  |  14 |\n",
       "| 12  |  20 |\n",
       "| 12  |  24 |\n",
       "| 12  |  28 |\n",
       "| 13  |  26 |\n",
       "| 13  |  34 |\n",
       "| 13  |  34 |\n",
       "| 13  |  46 |\n",
       "| 14  |  26 |\n",
       "| 14  |  36 |\n",
       "| 14  |  60 |\n",
       "| 14  |  80 |\n",
       "| 15  |  20 |\n",
       "| 15  |  26 |\n",
       "| 15  |  54 |\n",
       "| 16  |  32 |\n",
       "| 16  |  40 |\n",
       "| 17  |  32 |\n",
       "| 17  |  40 |\n",
       "| 17  |  50 |\n",
       "| 18  |  42 |\n",
       "| 18  |  56 |\n",
       "| 18  |  76 |\n",
       "| 18  |  84 |\n",
       "| 19  |  36 |\n",
       "| 19  |  46 |\n",
       "| 19  |  68 |\n",
       "| 20  |  32 |\n",
       "| 20  |  48 |\n",
       "| 20  |  52 |\n",
       "| 20  |  56 |\n",
       "| 20  |  64 |\n",
       "| 22  |  66 |\n",
       "| 23  |  54 |\n",
       "| 24  |  70 |\n",
       "| 24  |  92 |\n",
       "| 24  |  93 |\n",
       "| 24  | 120 |\n",
       "| 25  |  85 |\n",
       "\n"
      ],
      "text/plain": [
       "   speed dist\n",
       "1   4      2 \n",
       "2   4     10 \n",
       "3   7      4 \n",
       "4   7     22 \n",
       "5   8     16 \n",
       "6   9     10 \n",
       "7  10     18 \n",
       "8  10     26 \n",
       "9  10     34 \n",
       "10 11     17 \n",
       "11 11     28 \n",
       "12 12     14 \n",
       "13 12     20 \n",
       "14 12     24 \n",
       "15 12     28 \n",
       "16 13     26 \n",
       "17 13     34 \n",
       "18 13     34 \n",
       "19 13     46 \n",
       "20 14     26 \n",
       "21 14     36 \n",
       "22 14     60 \n",
       "23 14     80 \n",
       "24 15     20 \n",
       "25 15     26 \n",
       "26 15     54 \n",
       "27 16     32 \n",
       "28 16     40 \n",
       "29 17     32 \n",
       "30 17     40 \n",
       "31 17     50 \n",
       "32 18     42 \n",
       "33 18     56 \n",
       "34 18     76 \n",
       "35 18     84 \n",
       "36 19     36 \n",
       "37 19     46 \n",
       "38 19     68 \n",
       "39 20     32 \n",
       "40 20     48 \n",
       "41 20     52 \n",
       "42 20     56 \n",
       "43 20     64 \n",
       "44 22     66 \n",
       "45 23     54 \n",
       "46 24     70 \n",
       "47 24     92 \n",
       "48 24     93 \n",
       "49 24    120 \n",
       "50 25     85 "
      ]
     },
     "metadata": {},
     "output_type": "display_data"
    }
   ],
   "source": [
    "cars"
   ]
  },
  {
   "cell_type": "code",
   "execution_count": 3,
   "metadata": {},
   "outputs": [],
   "source": [
    "x <- cars$speed\n",
    "y <- cars$dist"
   ]
  },
  {
   "cell_type": "code",
   "execution_count": 4,
   "metadata": {},
   "outputs": [],
   "source": [
    "# fonction de la moyenne \n",
    "moyenne <- function(a) {\n",
    "    return (sum(a) / length(a))\n",
    "} \n",
    "\n",
    "# fonction de la variance\n",
    "variance <- function(a) {\n",
    "    return ((1 / length(a)) * sum((a - moyenne(a)) ^ 2))\n",
    "}\n",
    "    \n",
    "# fonction de l'écart type \n",
    "ecart_type <- function(a) {\n",
    "    return (sqrt(variance(a)))\n",
    "}\n",
    "\n",
    "# fonction de la covariance \n",
    "covariance <- function(a, b) {\n",
    "    return (moyenne((a - moyenne(a)) * (b - moyenne(b))))\n",
    "}\n",
    "        \n",
    "# estimation de la pente a \n",
    "a.estimation <- function(a, b) {\n",
    "    return (covariance(a, b) / variance(a))\n",
    "}\n",
    "            \n",
    "# estimation de b\n",
    "b.estimation <- function(a, b) {\n",
    "    return (moyenne(b) - a.estimation(a, b) * moyenne(a)) \n",
    "}"
   ]
  },
  {
   "cell_type": "code",
   "execution_count": 5,
   "metadata": {},
   "outputs": [
    {
     "data": {
      "text/html": [
       "TRUE"
      ],
      "text/latex": [
       "TRUE"
      ],
      "text/markdown": [
       "TRUE"
      ],
      "text/plain": [
       "[1] TRUE"
      ]
     },
     "metadata": {},
     "output_type": "display_data"
    }
   ],
   "source": [
    "moyenne(x) == mean(x)\n",
    "# pas de différence"
   ]
  },
  {
   "cell_type": "code",
   "execution_count": 6,
   "metadata": {},
   "outputs": [
    {
     "data": {
      "text/html": [
       "5.23450093132096"
      ],
      "text/latex": [
       "5.23450093132096"
      ],
      "text/markdown": [
       "5.23450093132096"
      ],
      "text/plain": [
       "[1] 5.234501"
      ]
     },
     "metadata": {},
     "output_type": "display_data"
    },
    {
     "data": {
      "text/html": [
       "5.28764443523478"
      ],
      "text/latex": [
       "5.28764443523478"
      ],
      "text/markdown": [
       "5.28764443523478"
      ],
      "text/plain": [
       "[1] 5.287644"
      ]
     },
     "metadata": {},
     "output_type": "display_data"
    },
    {
     "data": {
      "text/html": [
       "-0.0531435039138239"
      ],
      "text/latex": [
       "-0.0531435039138239"
      ],
      "text/markdown": [
       "-0.0531435039138239"
      ],
      "text/plain": [
       "[1] -0.0531435"
      ]
     },
     "metadata": {},
     "output_type": "display_data"
    }
   ],
   "source": [
    "ecart_type(x)\n",
    "sd(x)\n",
    "ecart_type(x) - sd(x)\n",
    "# il y'a une différence de 0.05 "
   ]
  },
  {
   "cell_type": "code",
   "execution_count": 7,
   "metadata": {},
   "outputs": [
    {
     "data": {
      "text/html": [
       "3.93240875912409"
      ],
      "text/latex": [
       "3.93240875912409"
      ],
      "text/markdown": [
       "3.93240875912409"
      ],
      "text/plain": [
       "[1] 3.932409"
      ]
     },
     "metadata": {},
     "output_type": "display_data"
    }
   ],
   "source": [
    "a.estimation(x,y)"
   ]
  },
  {
   "cell_type": "code",
   "execution_count": 8,
   "metadata": {},
   "outputs": [
    {
     "data": {
      "text/html": [
       "-17.5790948905109"
      ],
      "text/latex": [
       "-17.5790948905109"
      ],
      "text/markdown": [
       "-17.5790948905109"
      ],
      "text/plain": [
       "[1] -17.57909"
      ]
     },
     "metadata": {},
     "output_type": "display_data"
    }
   ],
   "source": [
    "b.estimation(x,y)"
   ]
  },
  {
   "cell_type": "code",
   "execution_count": 9,
   "metadata": {},
   "outputs": [
    {
     "data": {
      "text/plain": [
       "\n",
       "Call:\n",
       "lm(formula = y ~ x)\n",
       "\n",
       "Coefficients:\n",
       "(Intercept)            x  \n",
       "    -17.579        3.932  \n"
      ]
     },
     "metadata": {},
     "output_type": "display_data"
    }
   ],
   "source": [
    "res.reg <- lm(y~x)\n",
    "res.reg\n",
    "# on remarque que le résultat de a.estimation() == a et b.estimation() == b, issus de la fonction lm()"
   ]
  },
  {
   "cell_type": "code",
   "execution_count": 10,
   "metadata": {},
   "outputs": [
    {
     "data": {
      "image/png": "[encoded data removed]",
      "text/plain": [
       "Plot with title \"Distance de freinage =f(Vitesse)\""
      ]
     },
     "metadata": {},
     "output_type": "display_data"
    }
   ],
   "source": [
    "plot(x, y, main=\"Distance de freinage =f(Vitesse)\", ylab=\"Distance\", xlab=\"Speed miles/h\", pch=16, col='blue')\n",
    "abline(res.reg, col='red')"
   ]
  },
  {
   "cell_type": "markdown",
   "metadata": {},
   "source": [
    "## Partie 2 \n",
    "Calculer la somme des carrés des résidus, notée SSR,  ou le résidu correspondant à l’observation i est donné par :\n",
    "  ei=yi-(b+axi),  c’est-à-dire écart entre la valeur observée (yi) et la valeur correspondante sur la droite de régréssion (b+axi)).\n",
    "Proposer un graphe mettant en évidence les écarts entre valeurs de y observées et valeurs de y prédites par la droite de régréssion.\n",
    "Calculer le coefficient R2 permettant d’estimer la qualité de l’ajustement. (rappel :\n",
    "R2=(Var(Y)-SSR/n)/Var(Y)),  que pensez-vous de ce résultat ?\n",
    "Quelles sont les informations que l’on retrouve en faisant summary(l) ?\n"
   ]
  },
  {
   "cell_type": "code",
   "execution_count": 11,
   "metadata": {},
   "outputs": [
    {
     "data": {
      "text/html": [
       "11353.5210510949"
      ],
      "text/latex": [
       "11353.5210510949"
      ],
      "text/markdown": [
       "11353.5210510949"
      ],
      "text/plain": [
       "[1] 11353.52"
      ]
     },
     "metadata": {},
     "output_type": "display_data"
    }
   ],
   "source": [
    "a <- res.reg$coefficients[2]\n",
    "b <- res.reg$coefficients[1]\n",
    "e <- y - (a * x + b)\n",
    "\n",
    "SSR <- function(z){ \n",
    "    return(sum(z^2))\n",
    "}\n",
    "SSR(e)"
   ]
  },
  {
   "cell_type": "code",
   "execution_count": 12,
   "metadata": {},
   "outputs": [
    {
     "data": {
      "image/png": "[encoded data removed]",
      "text/plain": [
       "Plot with title \"Distance =f(Speed) \""
      ]
     },
     "metadata": {},
     "output_type": "display_data"
    }
   ],
   "source": [
    "plot(x, y, main=\"Distance =f(Speed) \", ylab=\"Distance\", xlab=\"Speed\", pch=16, col='blue')\n",
    "abline(res.reg, col=\"red\");\n",
    "segments(x, y, x, a * x + b, col=\"Darkgreen\")\n"
   ]
  },
  {
   "cell_type": "code",
   "execution_count": 51,
   "metadata": {},
   "outputs": [
    {
     "data": {
      "text/html": [
       "0.651079380758251"
      ],
      "text/latex": [
       "0.651079380758251"
      ],
      "text/markdown": [
       "0.651079380758251"
      ],
      "text/plain": [
       "[1] 0.6510794"
      ]
     },
     "metadata": {},
     "output_type": "display_data"
    },
    {
     "data": {
      "text/plain": [
       "\n",
       "Call:\n",
       "lm(formula = y ~ x)\n",
       "\n",
       "Residuals:\n",
       "    Min      1Q  Median      3Q     Max \n",
       "-29.069  -9.525  -2.272   9.215  43.201 \n",
       "\n",
       "Coefficients:\n",
       "            Estimate Std. Error t value Pr(>|t|)    \n",
       "(Intercept) -17.5791     6.7584  -2.601   0.0123 *  \n",
       "x             3.9324     0.4155   9.464 1.49e-12 ***\n",
       "---\n",
       "Signif. codes:  0 '***' 0.001 '**' 0.01 '*' 0.05 '.' 0.1 ' ' 1\n",
       "\n",
       "Residual standard error: 15.38 on 48 degrees of freedom\n",
       "Multiple R-squared:  0.6511,\tAdjusted R-squared:  0.6438 \n",
       "F-statistic: 89.57 on 1 and 48 DF,  p-value: 1.49e-12\n"
      ]
     },
     "metadata": {},
     "output_type": "display_data"
    }
   ],
   "source": [
    "R2 <- cov(x,y)^2/(var(x)*var(y))\n",
    "R2\n",
    "\n",
    "summary(res.reg)\n",
    "# le coefficient de R2 est proche de 1, donc il y'a une corrélation entre la vitesse et la distance parcouru par la voiture."
   ]
  },
  {
   "cell_type": "markdown",
   "metadata": {},
   "source": [
    "## Partie 3 \n",
    "On a supposé que les erreurs sont distribuées normalement, faites une vérification graphique en traçant un histogramme des résidus, une boite à moustache, un diagramme quantile-quantile. Commenter.\n",
    "On a supposé que la variance des résidus est constante. Donner un graphe (xi, ei) qui permet de vérifier cette hypothèse.\n"
   ]
  },
  {
   "cell_type": "code",
   "execution_count": 29,
   "metadata": {},
   "outputs": [
    {
     "data": {
      "image/png": "[encoded data removed]",
      "text/plain": [
       "Plot with title \"Normal Q-Q Plot\""
      ]
     },
     "metadata": {},
     "output_type": "display_data"
    }
   ],
   "source": [
    "par(mfrow=c(1,3))\n",
    "hist(e, main=\"Histogramme des résidus\", xlab=\"les résidus\", col='pink', freq=TRUE)\n",
    "boxplot(e, col='pink', main=\"boite à moustache des résidus\")\n",
    "qqnorm(e, pch=16, col=\"pink\")"
   ]
  },
  {
   "cell_type": "markdown",
   "metadata": {},
   "source": [
    "***à partir des ces résultats on peut confirmer que la distribution des résidus suive une loi normale***"
   ]
  },
  {
   "cell_type": "markdown",
   "metadata": {},
   "source": [
    "## Partie 4\n",
    "Peut-être est-il plus raisonnable de chercher une relation de liaison entre x et y qui ne soit pas linéaire: Faire quelques essais, en traçant quelques nuages (x,y,ln(x),ln(y), x^2,y^2,sqrt(x),sqrt(y)…) et en calculant la valeur de R2 obtenue dans chaque cas. On étudiera le modèle qui semble le plus prometteur intégralement."
   ]
  },
  {
   "cell_type": "code",
   "execution_count": 49,
   "metadata": {},
   "outputs": [
    {
     "data": {
      "image/png": "[encoded data removed]",
      "text/plain": [
       "Plot with title \"nuage des points sqrt(x) et sqrt(y)\""
      ]
     },
     "metadata": {},
     "output_type": "display_data"
    }
   ],
   "source": [
    "par(mfrow=c(2, 2))\n",
    "plot(x, y, pch=16, col='blue', main=\"nuage des points x et y\")\n",
    "plot(log(x), log(y), pch=16, col='red', main=\"nuage des points ln(x) et ln(y)\")\n",
    "plot(x^2, y^2, pch=16, col='green', main=\"nuage des points x^2 et y^2\")\n",
    "plot(sqrt(x), sqrt(y), pch=16, col='pink', main=\"nuage des points sqrt(x) et sqrt(y)\")"
   ]
  },
  {
   "cell_type": "code",
   "execution_count": 47,
   "metadata": {},
   "outputs": [
    {
     "data": {
      "text/html": [
       "0.651079380758251"
      ],
      "text/latex": [
       "0.651079380758251"
      ],
      "text/markdown": [
       "0.651079380758251"
      ],
      "text/plain": [
       "[1] 0.6510794"
      ]
     },
     "metadata": {},
     "output_type": "display_data"
    },
    {
     "data": {
      "text/html": [
       "0.733144439277278"
      ],
      "text/latex": [
       "0.733144439277278"
      ],
      "text/markdown": [
       "0.733144439277278"
      ],
      "text/plain": [
       "[1] 0.7331444"
      ]
     },
     "metadata": {},
     "output_type": "display_data"
    },
    {
     "data": {
      "text/html": [
       "0.554072554817357"
      ],
      "text/latex": [
       "0.554072554817357"
      ],
      "text/markdown": [
       "0.554072554817357"
      ],
      "text/plain": [
       "[1] 0.5540726"
      ]
     },
     "metadata": {},
     "output_type": "display_data"
    },
    {
     "data": {
      "text/html": [
       "0.705338791753196"
      ],
      "text/latex": [
       "0.705338791753196"
      ],
      "text/markdown": [
       "0.705338791753196"
      ],
      "text/plain": [
       "[1] 0.7053388"
      ]
     },
     "metadata": {},
     "output_type": "display_data"
    }
   ],
   "source": [
    "R2.xy <- cov(x,y)^2/(var(x)*var(y)); R2.xy\n",
    "R2.lnxlny <- cov(log(x),log(y))^2/(var(log(x))*var(log(y))); R2.lnxlny\n",
    "R2.x2y2 <- cov(x^2,y^2)^2/(var(x^2)*var(y^2)); R2.x2y2\n",
    "R2.sqrtxsqrty <- cov(sqrt(x),sqrt(y))^2/(var(sqrt(x))*var(sqrt(y))); R2.sqrtxsqrty"
   ]
  },
  {
   "cell_type": "markdown",
   "metadata": {},
   "source": [
    "Donc à partir des résultats des R2 obtenus on remarque que le R2 correspond à ln(x) et ln(y) est le meilleur. Donc le modèle qui semble le plus promoteur intégralement est celui de ln(x) et ln(y).\n"
   ]
  },
  {
   "cell_type": "code",
   "execution_count": 55,
   "metadata": {},
   "outputs": [
    {
     "data": {
      "image/png": "[encoded data removed]",
      "text/plain": [
       "plot without title"
      ]
     },
     "metadata": {},
     "output_type": "display_data"
    }
   ],
   "source": [
    "reg <- lm(log(y) ~ log(x))\n",
    "plot(log(y) ~ log(x), col='blue', pch=16)\n",
    "abline(reg, col='red')"
   ]
  }
 ],
 "metadata": {
  "kernelspec": {
   "display_name": "R",
   "language": "R",
   "name": "ir"
  },
  "language_info": {
   "codemirror_mode": "r",
   "file_extension": ".r",
   "mimetype": "text/x-r-source",
   "name": "R",
   "pygments_lexer": "r",
   "version": "3.6.1"
  }
 },
 "nbformat": 4,
 "nbformat_minor": 4
}
